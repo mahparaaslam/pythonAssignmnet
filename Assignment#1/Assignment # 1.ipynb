{
 "cells": [
  {
   "cell_type": "code",
   "execution_count": 13,
   "id": "60c72309",
   "metadata": {},
   "outputs": [
    {
     "name": "stdout",
     "output_type": "stream",
     "text": [
      "       Twinkle, twinkle, little star,\n",
      "             How I wonder what you are\n",
      "                   Up above the world so high,\n",
      "                   Like a diamond in the sky.\n",
      "       Twinkle, twinkle, little star,\n",
      "             How I wonder what you are\n"
     ]
    }
   ],
   "source": [
    "                    # Q1\n",
    "\n",
    "print(\"       Twinkle, twinkle, little star,\")\n",
    "print(\"             How I wonder what you are\")\n",
    "print(\"                   Up above the world so high,\")\n",
    "print(\"                   Like a diamond in the sky.\")\n",
    "print(\"       Twinkle, twinkle, little star,\")\n",
    "print(\"             How I wonder what you are\")"
   ]
  },
  {
   "cell_type": "code",
   "execution_count": 2,
   "id": "0133cf3e",
   "metadata": {},
   "outputs": [
    {
     "name": "stdout",
     "output_type": "stream",
     "text": [
      "Python version\n",
      "3.9.7 (default, Sep 16 2021, 16:59:28) [MSC v.1916 64 bit (AMD64)]\n"
     ]
    }
   ],
   "source": [
    "                   # Q2   \n",
    "\n",
    "import sys\n",
    "print(\"Python version\")\n",
    "print (sys.version)"
   ]
  },
  {
   "cell_type": "code",
   "execution_count": 5,
   "id": "82bd9a74",
   "metadata": {},
   "outputs": [
    {
     "name": "stdout",
     "output_type": "stream",
     "text": [
      "2022-01-01 12:58:09\n"
     ]
    }
   ],
   "source": [
    "                # Q3\n",
    "\n",
    "from datetime import datetime\n",
    "now = datetime.now()\n",
    "print (now.strftime(\"%Y-%m-%d %H:%M:%S\"))"
   ]
  },
  {
   "cell_type": "code",
   "execution_count": 7,
   "id": "0be39953",
   "metadata": {},
   "outputs": [
    {
     "name": "stdout",
     "output_type": "stream",
     "text": [
      "Enter radius of circle : 5\n",
      "Area of the circle is: 78.53981633974483\n"
     ]
    }
   ],
   "source": [
    "                # Q4\n",
    "\n",
    "from math import pi\n",
    "\n",
    "r = float(input (\"Enter radius of circle : \"))\n",
    "\n",
    "print (\"Area of the circle is: \" + str(pi * r**2))"
   ]
  },
  {
   "cell_type": "code",
   "execution_count": 14,
   "id": "70c5d286",
   "metadata": {},
   "outputs": [
    {
     "name": "stdout",
     "output_type": "stream",
     "text": [
      "enter your first name: maha\n",
      "enter your last name: aslam\n",
      "aslam maha\n"
     ]
    }
   ],
   "source": [
    "               # Q5\n",
    "    \n",
    "firstName = input(\"enter your first name: \");\n",
    "lastName = input(\"enter your last name: \");\n",
    "print(lastName + \" \" + firstName);"
   ]
  },
  {
   "cell_type": "code",
   "execution_count": 6,
   "id": "50812a1d",
   "metadata": {},
   "outputs": [
    {
     "name": "stdout",
     "output_type": "stream",
     "text": [
      "enter first input: 5\n",
      "enter second input: 5\n",
      "10.0\n"
     ]
    }
   ],
   "source": [
    "                # Q6\n",
    "    \n",
    "a = input(\"enter first input: \");\n",
    "b = input(\"enter second input: \");\n",
    "sum = float(a) + float(b)\n",
    "print (sum)\n"
   ]
  },
  {
   "cell_type": "code",
   "execution_count": null,
   "id": "90774b6a",
   "metadata": {},
   "outputs": [],
   "source": []
  }
 ],
 "metadata": {
  "kernelspec": {
   "display_name": "Python 3 (ipykernel)",
   "language": "python",
   "name": "python3"
  },
  "language_info": {
   "codemirror_mode": {
    "name": "ipython",
    "version": 3
   },
   "file_extension": ".py",
   "mimetype": "text/x-python",
   "name": "python",
   "nbconvert_exporter": "python",
   "pygments_lexer": "ipython3",
   "version": "3.9.7"
  }
 },
 "nbformat": 4,
 "nbformat_minor": 5
}
